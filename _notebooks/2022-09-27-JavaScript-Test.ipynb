{
 "cells": [
  {
   "cell_type": "markdown",
   "id": "cd4039bc",
   "metadata": {},
   "source": [
    "# A JavaScript Test!\n",
    ">A basic script as a test... including Hello World and an improvised random number generator\n",
    "\n",
    "- toc: false\n",
    "- layout: post\n",
    "- categories: [scripts, jupyter, Comp Sci]\n",
    "- permalink: /scripts/js_test\n",
    "- comments: true"
   ]
  },
  {
   "cell_type": "markdown",
   "id": "bef08932",
   "metadata": {},
   "source": [
    "Hi! Welcome to the JavaScript Test! Some basic stuff here."
   ]
  },
  {
   "cell_type": "code",
   "execution_count": 2,
   "id": "8168cf51",
   "metadata": {},
   "outputs": [
    {
     "name": "stdout",
     "output_type": "stream",
     "text": [
      "Hello World!\n"
     ]
    }
   ],
   "source": [
    "console.log(\"Hello World!\")"
   ]
  },
  {
   "cell_type": "markdown",
   "id": "2b1bf947",
   "metadata": {},
   "source": [
    "Yeah, that's basic. I need to try a Random number generator. This will actually be a test for part of my Night at the Museum concept, specifically the one where there's a 5% chance for any question to be doubled points."
   ]
  },
  {
   "cell_type": "code",
   "execution_count": 54,
   "id": "18b95365",
   "metadata": {
    "scrolled": true
   },
   "outputs": [
    {
     "name": "stdout",
     "output_type": "stream",
     "text": [
      "[ 19, 3, 13, 11, 15, 5, 14, 17, 16, 4, 1, 9, 20, 18, 10, 7, 8, 12, 2, 6 ]\n",
      "9\n",
      "The number 10 was not picked, this is no daily double\n",
      "9\n"
     ]
    }
   ],
   "source": [
    "// Makes a list, declares variables\n",
    "var rng \n",
    "var number\n",
    "rng = [1, 2, 3, 4, 5, 6, 7, 8, 9, 10, 11, 12, 13, 14, 15, 16, 17, 18, 19, 20];\n",
    "\n",
    "// Fisher-Yates Shuffle, grabbed from https://bost.ocks.org/mike/shuffle/. Very useful.\n",
    "// In the theoretical jeopardy program, this script would be run every time\n",
    "// the user clicks on a question.\n",
    "function shuffle(rng) {\n",
    "  var m = rng.length, t, i;\n",
    "\n",
    "  // While there remain elements to shuffle…\n",
    "  while (m) {\n",
    "\n",
    "    // Pick a remaining element…\n",
    "    i = Math.floor(Math.random() * m--);\n",
    "    // And swap it with the current element.\n",
    "    t = rng[m];\n",
    "    rng[m] = rng[i];\n",
    "    rng[i] = t;\n",
    "  }\n",
    "\n",
    "  return rng;\n",
    "}\n",
    "\n",
    "shuffle(rng)\n",
    "\n",
    "// sets number, prints values of variables to verify everything is working properly\n",
    "number = rng[11]\n",
    "console.log(rng)\n",
    "console.log(number)\n",
    "\n",
    "// This is the random number generator\n",
    "\n",
    "if (number == 10) {\n",
    "    console.log(\"The number 10 was picked, in the Jeopardy this would be daily double\")\n",
    "} else {\n",
    "    console.log(\"The number 10 was not picked, this is no daily double\")\n",
    "    console.log(number)\n",
    "}"
   ]
  },
  {
   "cell_type": "markdown",
   "id": "868a954d",
   "metadata": {},
   "source": [
    "A few things to talk about. First, variables must be declared in Java. This looks like\n",
    "```\n",
    "var rng\n",
    "var number\n",
    "rng = [1, 2, 3, 4, 5, 6, 7, 8, 9, 10, 11, 12, 13, 14, 15, 16, 17, 18, 19, 20];\n",
    "```\n",
    "\n",
    "In this case, **rng** and **number** are declared. They do not have values yet. Then, I set rng equal to a list with all numbers from 1 to 20. Then I defined a function called **shuffle**, with the list as the parameter using `function shuffle(rng) {`. Here's what it does:\n",
    "\n",
    "```\n",
    "var m = rng.length, t, i;\n",
    "```\n",
    "\n",
    "This declares variables **m**, **t**, and **i**, and sets variable m equal to the number of entries in the list **rng**\n",
    "\n",
    "```\n",
    "while (m)\n",
    "```\n",
    "\n",
    "This executes associated commands on all items in the **rng**\n",
    "\n",
    "```\n",
    "i = Math.floor(Math.random() * m--);\n",
    "```\n",
    "\n",
    "This sets i equal to a value. **Math.floor** rounds any number down. **Math.random()** picks a random number between 0 and 1. And **m--** decreases **m** by 1. Then:\n",
    "\n",
    "```\n",
    "t = rng[m];\n",
    "rng[m] = rng[i];\n",
    "rng[i] = t;\n",
    "```\n",
    "\n",
    "This sets t equal to the mth value of **rng**, then sets that equal to the ith value of **rng**, which is then set equal to t. \n",
    "\n",
    "That's a little unclear, so I'll state that in simpler terms. This code goes to the back entry in the list and collects its value. Then, this entry is set equal to the entry randomly selected in the while loop. Then, the entry selected in the list is set equal to the former value of the last entry. Given that **m--** is used for each entry, the loop effectively then repeats this process but for the second-to-last entry in the list, then the third-to-last, etc.\n",
    "\n",
    "**return rng;** takes the value of the list outside the function, allowing it to be used in later commands.\n",
    "\n",
    "**number = rng[11]** sets the variable **number** equal to the 11th entry in **rng**. It really doesn't matter which entry is picked since the list is randomized anyways. Then:\n",
    "\n",
    "```\n",
    "if (number == 10) {\n",
    "    console.log(\"The number 10 was picked, in the Jeopardy project the given question would be daily double\")\n",
    "} else {\n",
    "    console.log(\"The number 10 was not picked, this is no daily double\")\n",
    "    console.log(number)\n",
    "}\n",
    "```\n",
    "\n",
    "The if statement: Essentially checks if the value of the variable **number**, or the 11th entry in **rng**, is equal to 10. Any number from 1 to 20 can be checked since all those numbers are in the list. If this is satisfied, it prints that the question in a jeopardy project would be a daily double. The function of this code is essentially a random number generator so that there's a 5% chance that a condition be satisfied. In the real jeopardy project, another command would be associated with the if statement which would double the value of a variable serving as the base number of points if a question is answered correctly.\n",
    "\n",
    "If the condition is not satisfied, it prints that there will be no daily double."
   ]
  }
 ],
 "metadata": {
  "kernelspec": {
   "display_name": "JavaScript (Node.js)",
   "language": "javascript",
   "name": "javascript"
  },
  "language_info": {
   "file_extension": ".js",
   "mimetype": "application/javascript",
   "name": "javascript",
   "version": "6.11.2"
  }
 },
 "nbformat": 4,
 "nbformat_minor": 5
}
