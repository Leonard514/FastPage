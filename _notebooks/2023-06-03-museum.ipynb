{
 "cells": [
  {
   "attachments": {},
   "cell_type": "markdown",
   "metadata": {},
   "source": [
    "# Night at the Museum Blog\n",
    "> Includes all the important stuffs about what happened at Night at the Museum\n",
    "- toc: false\n",
    "- layout: post\n",
    "- categories: [Comp Sci, jupyter]\n",
    "- permalink: /final\n",
    "- comments: true"
   ]
  },
  {
   "attachments": {},
   "cell_type": "markdown",
   "metadata": {},
   "source": [
    "Before I get started, I'd like to make a commment about this being a jupyter notebook file. I haven't touched jupyter all trimester due to the limited capabilities of chromebooks. But there's this fun website called [vscode.dev](vscode.dev) that I should have been using all trimester since I can actually access it on the chromebook. I can modify the markdown and code in notebooks (and other files as well), but I can't actually run anything on the site due to the absence of a kernel. You'll see in my senior year reflection why this software limitation issue happened in the first place. I decided to end with a notebook file since it's easier to embed videos that way. With that out of the way, let's talk about Night at the Museum.\n",
    "\n",
    "This is just my place to write about my night at the museum experiences. I still need to go fetch some photos, but in the meantime I can make an outline of a few of my thought.\n",
    "There is a lot of appreciation of beauty which is somewhat difficult to put into words. I'll see what I can do here.\n",
    "\n",
    "# Section 1: Music\n",
    "\n",
    "> youtube: https://youtu.be/sjZNTF2EwOY\n",
    "\n",
    "Here are some of my thoughts:\n",
    "\n",
    "The flute has been my favorite instrument since I've thought of having one. I like how often it is involved in peaceful melodies, and its sounds exert a calming influence on the mind.\n",
    "The type of music the flutes were involved in is... not what I would have expected. My mother said that this was jazz music. Overall, I would have rather preferred some classical or peaceful music. I have little experience with jazz music, so I don't really know what to say here.\n",
    "\n",
    "\n",
    "# Section 2: Photography/Painting, other 2-dimensional pieces\n",
    "\n",
    "![image](https://drive.google.com/uc?export=view&id=17XTr15KxE88zKJyTgryQHx-rQmCFdYLe)\n",
    "![image](https://drive.google.com/uc?export=view&id=1uZaJ7KMdPkd6Tb5-fw3q3zS3jXtXs7WA)\n",
    "![image](https://drive.google.com/uc?export=view&id=1waPbSaTX3nuZ-3Quv6s2wb_j_KVtKqtu)\n",
    "\n",
    "\n",
    "\n",
    "Here are some of my thoughts\n",
    "\n",
    "A lot of the photos that I saved were either of sunsets or had something to do with water. I find the blending of hues in sunset photos to be very beautiful and pleasing. As for the involvement of water, I feel there is a high attention to detail as the artist captures the reflections in the water and other ways that light interacts with the drops. I find this level of detail to be very pleasing.\n",
    "\n",
    "There were also a lot of pieces depicting humans. I expected some of those pieces to be immodest, and that expectation was pretty accurate. I found those pieces to be disgusting and I don't include them here.\n",
    "\n",
    "\n",
    "# Section 3: Ceramics\n",
    "\n",
    "![image](https://drive.google.com/uc?export=view&id=1Lpt_ImQ_4RaCUBd2BSecsg-fBQ2aNMIx)\n",
    "![image](https://drive.google.com/uc?export=view&id=1faMUhYnkGWsXC_qTMZK7hWiyrCPbV2TD)\n",
    "\n",
    "I do have some photos of the ceramics that I need to upload. I do have a few comments... I haven't taken this class.\n",
    "\n",
    "\n",
    "I really liked the attention to detail on the octopus piece. The student really took time to add all of the suckers to the undersides of the arms. That really elevated the piece.\n",
    "\n",
    "There was another piece which looked very similar to a tubular form of coral. I wondered how the student was able to ensure that the intersection between the two tube walls was kept above the bottom of the piece. I don't know if the student had to install a support during the process or if the clay weight was light enough to prevent the upper parts from caving in. As I've said, I haven't taken this class.\n",
    "\n",
    "# Section 4: Choir\n",
    "\n",
    "> youtube: https://youtu.be/bJ42yxuyGis\n",
    "\n",
    "I was coming out of one the exhibits when there was one student singing (this was 'Over the Rainbow'). I found that the students' voices blended very well. Since the song described many natural features (such as rainbows, clouds, and blue skies), many thoughts about my upcoming Philmont trek in a few weeks popped into my mind. There are many beautiful natural features in that area, including grasses that wave in the wind and many unique animals. I am very excited about this, so I tend to mention it whenever I can."
   ]
  }
 ],
 "metadata": {
  "language_info": {
   "name": "python"
  },
  "orig_nbformat": 4
 },
 "nbformat": 4,
 "nbformat_minor": 2
}
