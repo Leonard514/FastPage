{
 "cells": [
  {
   "cell_type": "code",
   "execution_count": null,
   "metadata": {},
   "outputs": [],
   "source": [
    "print(“Hello World!”)\n",
    "\n",
    "print(\"But that's boring. Let's try something different\")\n",
    "\n",
    "print(\"Supercalifragilisticexpialidocious!!!\")\n",
    "\n",
    "print(\"Pneumonoultramicroscopicsilicovolcanoconiosis!!!\")\n",
    "\n",
    "print(\"Now that's better.\")"
   ]
  }
 ],
 "metadata": {
  "language_info": {
   "name": "python"
  },
  "orig_nbformat": 4
 },
 "nbformat": 4,
 "nbformat_minor": 2
}
