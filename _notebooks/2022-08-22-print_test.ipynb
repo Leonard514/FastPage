{
 "cells": [
  {
   "cell_type": "markdown",
   "metadata": {},
   "source": [
    "# A Print Test Script!\n",
    ">A basic script as a test... with some fun-sized words.\n",
    "\n",
    "- toc: false\n",
    "- layout: post\n",
    "- categories: [scripts, jupyter, Comp Sci]\n",
    "- permalink: /scripts/print_test\n",
    "- comments: true"
   ]
  },
  {
   "cell_type": "code",
   "execution_count": 4,
   "metadata": {},
   "outputs": [
    {
     "name": "stdout",
     "output_type": "stream",
     "text": [
      "Hello World!\n",
      "But that's boring. Let's try something different\n",
      "Supercalifragilisticexpialidocious!!!\n",
      "Pneumonoultramicroscopicsilicovolcanoconiosis!!!\n",
      "Now that's better.\n"
     ]
    }
   ],
   "source": [
    "print(\"Hello World!\")\n",
    "\n",
    "print(\"But that's boring. Let's try something different\")\n",
    "\n",
    "print(\"Supercalifragilisticexpialidocious!!!\")\n",
    "\n",
    "print(\"Pneumonoultramicroscopicsilicovolcanoconiosis!!!\")\n",
    "\n",
    "print(\"Now that's better.\")"
   ]
  }
 ],
 "metadata": {
  "kernelspec": {
   "display_name": "Python 3.9.12 ('base')",
   "language": "python",
   "name": "python3"
  },
  "language_info": {
   "codemirror_mode": {
    "name": "ipython",
    "version": 3
   },
   "file_extension": ".py",
   "mimetype": "text/x-python",
   "name": "python",
   "nbconvert_exporter": "python",
   "pygments_lexer": "ipython3",
   "version": "3.9.12"
  },
  "vscode": {
   "interpreter": {
    "hash": "a78e224c3336be9a93683737f8d2dfc2c6ca28dd34805c7194f7b6355dae587d"
   }
  }
 },
 "nbformat": 4,
 "nbformat_minor": 2
}
