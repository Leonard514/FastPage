{
 "cells": [
  {
   "cell_type": "markdown",
   "metadata": {},
   "source": [
    "---\n",
    "title: A print test script!\n",
    "---"
   ]
  },
  {
   "cell_type": "code",
   "execution_count": 1,
   "metadata": {},
   "outputs": [
    {
     "name": "stdout",
     "output_type": "stream",
     "text": [
      "Hello World!\n",
      "But that's boring. Let's try something different\n",
      "Supercalifragilisticexpialidocious!!!\n",
      "Pneumonoultramicroscopicsilicovolcanoconiosis!!!\n",
      "Now that's better.\n"
     ]
    }
   ],
   "source": [
    "print(\"Hello World!\")\n",
    "\n",
    "print(\"But that's boring. Let's try something different\")\n",
    "\n",
    "print(\"Supercalifragilisticexpialidocious!!!\")\n",
    "\n",
    "print(\"Pneumonoultramicroscopicsilicovolcanoconiosis!!!\")\n",
    "\n",
    "print(\"Now that's better.\")"
   ]
  }
 ],
 "metadata": {
  "kernelspec": {
   "display_name": "Python 3.9.12 ('base')",
   "language": "python",
   "name": "python3"
  },
  "language_info": {
   "codemirror_mode": {
    "name": "ipython",
    "version": 3
   },
   "file_extension": ".py",
   "mimetype": "text/x-python",
   "name": "python",
   "nbconvert_exporter": "python",
   "pygments_lexer": "ipython3",
   "version": "3.9.12"
  },
  "orig_nbformat": 4,
  "vscode": {
   "interpreter": {
    "hash": "a6b2548ad65db808429227da51ec7f39b8650a8bf07402b465400f480f8a04a2"
   }
  }
 },
 "nbformat": 4,
 "nbformat_minor": 2
}
