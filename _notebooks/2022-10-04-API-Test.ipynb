{
 "cells": [
  {
   "cell_type": "markdown",
   "id": "e79f069c",
   "metadata": {},
   "source": [
    "# API Demo\n",
    "> Demonstrates a trivia API\n",
    "\n",
    "- layout: default\n",
    "- badges: false\n",
    "- permalink: /scripts/api-test\n",
    "- categories: [Comp Sci, jupyter, scripts]"
   ]
  },
  {
   "cell_type": "code",
   "execution_count": 1,
   "id": "312e2ca9",
   "metadata": {},
   "outputs": [
    {
     "name": "stdout",
     "output_type": "stream",
     "text": [
      "[{\"category\": \"general\", \"question\": \"Zoophobia is the fear of ______\", \"answer\": \"Animals\"}, {\"category\": \"general\", \"question\": \"Pierre Augustine Caron de Baumarchais play what Opera based on it\", \"answer\": \"Barber Of Seville\"}, {\"category\": \"general\", \"question\": \"Hang on Sloopy' was the official rock song of which band\", \"answer\": \"Ohio\"}, {\"category\": \"general\", \"question\": \"When is turkey traditionally eaten in america\", \"answer\": \"Thanksgiving\"}, {\"category\": \"general\", \"question\": \"What was mozart's first name\", \"answer\": \"Wolfgang\"}, {\"category\": \"general\", \"question\": \"In the film 'titanic', who did leonardo dicaprio and kate winslet play\", \"answer\": \"Jack\"}, {\"category\": \"general\", \"question\": \"What was founded in the UK 1694 because of war with France\", \"answer\": \"Bank Of England\"}]\n"
     ]
    }
   ],
   "source": [
    "import requests\n",
    "\n",
    "url = \"https://trivia-by-api-ninjas.p.rapidapi.com/v1/trivia\"\n",
    "\n",
    "querystring = {\"category\":\"general\",\"limit\":\"7\"}\n",
    "\n",
    "headers = {\n",
    "\t\"X-RapidAPI-Key\": \"d205112de0msh0d4deda4e76f24fp1d3d7fjsn2c684c769088\",\n",
    "\t\"X-RapidAPI-Host\": \"trivia-by-api-ninjas.p.rapidapi.com\"\n",
    "}\n",
    "\n",
    "response = requests.request(\"GET\", url, headers=headers, params=querystring)\n",
    "\n",
    "print(response.text)"
   ]
  },
  {
   "cell_type": "code",
   "execution_count": 2,
   "id": "6905cec2",
   "metadata": {},
   "outputs": [
    {
     "name": "stdout",
     "output_type": "stream",
     "text": [
      "[{\"category\": \"historyholidays\", \"question\": \"In which 1970's films does Dustin Hoffman play the character ' Lenny Bruce' ? \", \"answer\": \"Lenny\"}, {\"category\": \"historyholidays\", \"question\": \"James Dean died during the filming of which film in 1955? \", \"answer\": \"Giant\"}, {\"category\": \"historyholidays\", \"question\": \"Who Directed The Original Halloween Movie \", \"answer\": \"John Carpenter\"}, {\"category\": \"historyholidays\", \"question\": \"Good King Wenceslas was a 12th Century king of which country \", \"answer\": \"Bohemia\"}, {\"category\": \"historyholidays\", \"question\": \"This word describes the Nazi annihilation of Jews.\", \"answer\": \"Holocaust\"}, {\"category\": \"historyholidays\", \"question\": \"Who invented the wristwatch?\", \"answer\": \"Louis Cartier\"}, {\"category\": \"historyholidays\", \"question\": \"In 1952. 'Elizabeth Becomes Queen'. Who was her late father? \", \"answer\": \"George Vi\"}, {\"category\": \"historyholidays\", \"question\": \"Which country blew up a Greenpeace ship in New Zealand?\", \"answer\": \"France\"}, {\"category\": \"historyholidays\", \"question\": \"The Christmas period of 1813-14 saw the last what in London? \", \"answer\": \"Christmas Fair On a Frozen River Thames (known As a Frost Fair)\"}, {\"category\": \"historyholidays\", \"question\": \"Who was \\\"The Mad Monk\\\"\", \"answer\": \"Rasputin\"}, {\"category\": \"historyholidays\", \"question\": \"Which Footballer Was Sent home From The 1978 Football World Cup For Taking Illegal Substances \", \"answer\": \"Willie Johnston\"}, {\"category\": \"historyholidays\", \"question\": \"In 1954 Roger Bannister achieved the worlds 1st Sub 4 min mile in what English County did this take place \", \"answer\": \"Oxforshire\"}, {\"category\": \"historyholidays\", \"question\": \"Which 50's Movie features the Line ' I'll follow him around the Horn, and around the Norway Maelstrom, and around perditions flames' \", \"answer\": \"Moby Dick\"}, {\"category\": \"historyholidays\", \"question\": \"Which American Military Academt was established in 1802 on the Hudson river ?\", \"answer\": \"West Point\"}, {\"category\": \"historyholidays\", \"question\": \"Name the original eight reindeer from the 'Twas the night Before Christmas' poem. \", \"answer\": \"Comet, Cupid, Dasher, Dancer, Prancer, Vixen, Donner, Blitzen (or Dunder And Blixem)\"}]\n"
     ]
    }
   ],
   "source": [
    "import requests\n",
    "\n",
    "url = \"https://trivia-by-api-ninjas.p.rapidapi.com/v1/trivia\"\n",
    "\n",
    "querystring = {\"category\":\"historyholidays\",\"limit\":\"15\"}\n",
    "\n",
    "headers = {\n",
    "\t\"X-RapidAPI-Key\": \"d205112de0msh0d4deda4e76f24fp1d3d7fjsn2c684c769088\",\n",
    "\t\"X-RapidAPI-Host\": \"trivia-by-api-ninjas.p.rapidapi.com\"\n",
    "}\n",
    "\n",
    "response = requests.request(\"GET\", url, headers=headers, params=querystring)\n",
    "\n",
    "print(response.text)"
   ]
  },
  {
   "cell_type": "code",
   "execution_count": 4,
   "id": "7a796f4f",
   "metadata": {},
   "outputs": [
    {
     "name": "stdout",
     "output_type": "stream",
     "text": [
      "[{\"category\": \"entertainment\", \"question\": \"What is the mother's name in Family Circus\", \"answer\": \"Thelma\"}, {\"category\": \"entertainment\", \"question\": \"What is the name of the Volkswagen in the film, \\\"The Love Bug\\\"?\", \"answer\": \"Herbie\"}, {\"category\": \"entertainment\", \"question\": \"Which band does Eddie Vedder with?\", \"answer\": \"Pearl Jam\"}, {\"category\": \"entertainment\", \"question\": \"Who produced 'Sgt Pepper's Lonely Hearts Club Band'?\", \"answer\": \"George Martin\"}, {\"category\": \"entertainment\", \"question\": \"Was Shirley Temple 21, 25 or 29 when she made her last film?\", \"answer\": \"21\"}, {\"category\": \"entertainment\", \"question\": \"What was Lucy's maiden name on 'I Love Lucy'?\", \"answer\": \"Mcgillicuddy\"}, {\"category\": \"entertainment\", \"question\": \"What is Peter Parker's secret identity?\", \"answer\": \"Spiderman\"}, {\"category\": \"entertainment\", \"question\": \"Who played the lead in the movie \\\"The Mask\\\"?\", \"answer\": \"Jim Carrey\"}, {\"category\": \"entertainment\", \"question\": \"Who sings 'Sweet Home Alabama'?\", \"answer\": \"Lynyrd Skynyrd\"}, {\"category\": \"entertainment\", \"question\": \"What famous classical composer continued to compose great music after becoming deaf?\", \"answer\": \"Ludwig Van Beethoven\"}, {\"category\": \"entertainment\", \"question\": \"Which Elton John song was re-recorded as a requiem for Lady Diana Spencer?\", \"answer\": \"Candle In The Wind\"}, {\"category\": \"entertainment\", \"question\": \"In which film did Jay Leno play 'Mookie'?\", \"answer\": \"American Hot Wax\"}, {\"category\": \"entertainment\", \"question\": \"Name Li'l Abner's favorite Indian drink.\", \"answer\": \"Kickapoo Joy Juice\"}, {\"category\": \"entertainment\", \"question\": \"What did Hannibal Lecter like to eat with liver?\", \"answer\": \"Fava Beans\"}, {\"category\": \"entertainment\", \"question\": \"Who wrote the song 'Do They Know It's Christmas' with Bob Geldof?\", \"answer\": \"Midge Ure\"}, {\"category\": \"entertainment\", \"question\": \"What was Elvis Presley's twin brother's name?\", \"answer\": \"Garon\"}, {\"category\": \"entertainment\", \"question\": \"In the film 'Home Alone', who played the baddies?\", \"answer\": \"Joe Pesci And Daniel Stern\"}, {\"category\": \"entertainment\", \"question\": \"What was Keanu Reeves' first big film?\", \"answer\": \"Point Break\"}, {\"category\": \"entertainment\", \"question\": \"Who co-starred with Julie Andrews in \\\"Mary Poppins\\\"?\", \"answer\": \"Dick Van Dyke\"}, {\"category\": \"entertainment\", \"question\": \"Mentor of Titan had two children in the Marvel comics, Thanos and ___?\", \"answer\": \"Ero\"}, {\"category\": \"entertainment\", \"question\": \"Hanna-Barbera rose to fame by creating what duo for MGM?\", \"answer\": \"Tom And Jerry\"}, {\"category\": \"entertainment\", \"question\": \"What night club did Ricky work at on 'I Love Lucy'?\", \"answer\": \"The Tropicana\"}, {\"category\": \"entertainment\", \"question\": \"Who played the mayor of the munchkins in 'The Wizard of Oz'?\", \"answer\": \"Charlie Becker\"}, {\"category\": \"entertainment\", \"question\": \"The Who's rock musical stars Elton John.  It's called ________.\", \"answer\": \"Tommy\"}, {\"category\": \"entertainment\", \"question\": \"Who was the original voice of Mickey Mouse?\", \"answer\": \"Walt Disney\"}, {\"category\": \"entertainment\", \"question\": \"What is Batman's butler Alfred's last name.\", \"answer\": \"Pennyworth\"}, {\"category\": \"entertainment\", \"question\": \"What song was originally 'Good Morning To You' before the words were changed and it was published in 1935?\", \"answer\": \"Happy Birthday To You\"}, {\"category\": \"entertainment\", \"question\": \"What do the initials of the band NIN stand for?\", \"answer\": \"Nine Inch Nails\"}, {\"category\": \"entertainment\", \"question\": \"The theme tune for 'Monty Python's Flying Circus' was written by which composer?\", \"answer\": \"John Philip Sousa\"}, {\"category\": \"entertainment\", \"question\": \"Secret Identities: Jimmy Olson\", \"answer\": \"Elastic Lad\"}]\n"
     ]
    }
   ],
   "source": [
    "import requests\n",
    "\n",
    "url = \"https://trivia-by-api-ninjas.p.rapidapi.com/v1/trivia\"\n",
    "\n",
    "querystring = {\"category\":\"entertainment\",\"limit\":\"30\"}\n",
    "\n",
    "headers = {\n",
    "\t\"X-RapidAPI-Key\": \"d205112de0msh0d4deda4e76f24fp1d3d7fjsn2c684c769088\",\n",
    "\t\"X-RapidAPI-Host\": \"trivia-by-api-ninjas.p.rapidapi.com\"\n",
    "}\n",
    "\n",
    "response = requests.request(\"GET\", url, headers=headers, params=querystring)\n",
    "\n",
    "print(response.text)"
   ]
  }
 ],
 "metadata": {
  "kernelspec": {
   "display_name": "Python 3.8.10 64-bit",
   "language": "python",
   "name": "python3"
  },
  "language_info": {
   "codemirror_mode": {
    "name": "ipython",
    "version": 3
   },
   "file_extension": ".py",
   "mimetype": "text/x-python",
   "name": "python",
   "nbconvert_exporter": "python",
   "pygments_lexer": "ipython3",
   "version": "3.8.10"
  },
  "vscode": {
   "interpreter": {
    "hash": "916dbcbb3f70747c44a77c7bcd40155683ae19c65e1c03b4aa3499c5328201f1"
   }
  }
 },
 "nbformat": 4,
 "nbformat_minor": 5
}
