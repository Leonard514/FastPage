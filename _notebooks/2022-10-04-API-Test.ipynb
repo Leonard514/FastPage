{
 "cells": [
  {
   "cell_type": "markdown",
   "id": "e79f069c",
   "metadata": {},
   "source": [
    "# API Demo\n",
    "> Demonstrates a trivia API\n",
    "\n",
    "- layout: default\n",
    "- badges: false\n",
    "- permalink: /scripts/api-test\n",
    "- categories: [Comp Sci, jupyter, scripts]"
   ]
  },
  {
   "cell_type": "code",
   "execution_count": 1,
   "id": "312e2ca9",
   "metadata": {},
   "outputs": [
    {
     "name": "stdout",
     "output_type": "stream",
     "text": [
      "[{\"category\": \"general\", \"question\": \"Zoophobia is the fear of ______\", \"answer\": \"Animals\"}, {\"category\": \"general\", \"question\": \"Pierre Augustine Caron de Baumarchais play what Opera based on it\", \"answer\": \"Barber Of Seville\"}, {\"category\": \"general\", \"question\": \"Hang on Sloopy' was the official rock song of which band\", \"answer\": \"Ohio\"}, {\"category\": \"general\", \"question\": \"When is turkey traditionally eaten in america\", \"answer\": \"Thanksgiving\"}, {\"category\": \"general\", \"question\": \"What was mozart's first name\", \"answer\": \"Wolfgang\"}, {\"category\": \"general\", \"question\": \"In the film 'titanic', who did leonardo dicaprio and kate winslet play\", \"answer\": \"Jack\"}, {\"category\": \"general\", \"question\": \"What was founded in the UK 1694 because of war with France\", \"answer\": \"Bank Of England\"}]\n"
     ]
    }
   ],
   "source": [
    "import requests\n",
    "\n",
    "url = \"https://trivia-by-api-ninjas.p.rapidapi.com/v1/trivia\"\n",
    "\n",
    "querystring = {\"category\":\"general\",\"limit\":\"7\"}\n",
    "\n",
    "headers = {\n",
    "\t\"X-RapidAPI-Key\": \"d205112de0msh0d4deda4e76f24fp1d3d7fjsn2c684c769088\",\n",
    "\t\"X-RapidAPI-Host\": \"trivia-by-api-ninjas.p.rapidapi.com\"\n",
    "}\n",
    "\n",
    "response = requests.request(\"GET\", url, headers=headers, params=querystring)\n",
    "\n",
    "print(response.text)"
   ]
  },
  {
   "cell_type": "code",
   "execution_count": null,
   "id": "6905cec2",
   "metadata": {},
   "outputs": [],
   "source": []
  }
 ],
 "metadata": {
  "kernelspec": {
   "display_name": "Python 3.8.10 64-bit",
   "language": "python",
   "name": "python3"
  },
  "language_info": {
   "codemirror_mode": {
    "name": "ipython",
    "version": 3
   },
   "file_extension": ".py",
   "mimetype": "text/x-python",
   "name": "python",
   "nbconvert_exporter": "python",
   "pygments_lexer": "ipython3",
   "version": "3.8.10"
  },
  "vscode": {
   "interpreter": {
    "hash": "916dbcbb3f70747c44a77c7bcd40155683ae19c65e1c03b4aa3499c5328201f1"
   }
  }
 },
 "nbformat": 4,
 "nbformat_minor": 5
}
