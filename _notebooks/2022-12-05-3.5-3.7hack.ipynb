{
 "cells": [
  {
   "cell_type": "markdown",
   "metadata": {},
   "source": [
    "# Unit 3 Sections 5-7 Hacks\n",
    "> Hacks\n",
    "\n",
    "- toc: true\n",
    "- badges: true\n",
    "- comments: true\n",
    "- categories: [csp, 3 Week Sprint]"
   ]
  },
  {
   "cell_type": "markdown",
   "metadata": {},
   "source": [
    "For hacks, <mark>make a copy of this notebook and answer the questions or complete the code</mark>, as described in comments. Additionally, <mark>blog about any missed questions</mark>, or what you learned from this lesson."
   ]
  },
  {
   "cell_type": "markdown",
   "metadata": {},
   "source": [
    "# 3.5 Hacks\n",
    "\n",
    "## Binary Practice\n",
    "Using psuedocode operators determine if the statements are true or false. The number type will be indicated in parentheses.\n",
    "\n",
    "**1. 90(D) = 1000(B)**\n",
    "\n",
    "1000 Binary = 0 + 0 + 0 + 8 = 8 Decimal\n",
    "\n",
    "Answer: B. False\n",
    "\n",
    "**2. 10(D) ≠ 0110(B)**\n",
    "\n",
    "0110 Binary = 0 + 2 + 4 + 0 = 6 Decimal ≠ 10 Decimal\n",
    "\n",
    "Answer: A. True\n",
    "\n",
    "**3. 56(D) ≥ 111000(B)**\n",
    "\n",
    "111000 Binary = 0 + 0 + 0 + 8 + 16 + 32 = 56 Decimal ≥ 56 Decimal\n",
    "\n",
    "Answer: A. True\n",
    "\n",
    "**3. 99(D) < 1110011(B)**\n",
    "\n",
    "1110011 Binary = 1 + 2 + 0 + 0 + 16 + 32 + 64 = 115 Decimal\n",
    "\n",
    "99 Decimal < 115 Decimal\n",
    "\n",
    "Decimal: A. True"
   ]
  },
  {
   "cell_type": "markdown",
   "metadata": {},
   "source": [
    "Now, complete the binary truth tables"
   ]
  },
  {
   "cell_type": "markdown",
   "metadata": {},
   "source": [
    "<html>\n",
    "<style>\n",
    "    table, th, td { \n",
    "        border:2px solid white;\n",
    "    }\n",
    "</style>\n",
    "    <div>AND Operator</div>\n",
    "    <div>\n",
    "        <table>\n",
    "            <tr>\n",
    "                <th>Value 1</th>\n",
    "                <th>Value 2</th>\n",
    "                <th>Result</th>\n",
    "            </tr>\n",
    "            <tr>\n",
    "                <td>1</td>\n",
    "                <td>1</td>\n",
    "                <td>1</td>\n",
    "            </tr>\n",
    "            <tr>\n",
    "                <td>1</td>\n",
    "                <td>0</td>\n",
    "                <td>0</td>\n",
    "            </tr>\n",
    "            <tr>\n",
    "                <td>0</td>\n",
    "                <td>1</td>\n",
    "                <td>0</td>\n",
    "            </tr>\n",
    "            <tr>\n",
    "                <td>0</td>\n",
    "                <td>0</td>\n",
    "                <td>0</td>\n",
    "            </tr>\n",
    "        </table>\n",
    "    </div>\n",
    "    <div>OR Operator</div>\n",
    "    <div>\n",
    "        <table>\n",
    "            <tr>\n",
    "                <th>Value 1</th>\n",
    "                <th>Value 2</th>\n",
    "                <th>Result</th>\n",
    "            </tr>\n",
    "            <tr>\n",
    "                <td>1</td>\n",
    "                <td>1</td>\n",
    "                <td>1</td>\n",
    "            </tr>\n",
    "            <tr>\n",
    "                <td>1</td>\n",
    "                <td>0</td>\n",
    "                <td>1</td>\n",
    "            </tr>\n",
    "            <tr>\n",
    "                <td>0</td>\n",
    "                <td>1</td>\n",
    "                <td>1</td>\n",
    "            </tr>\n",
    "            <tr>\n",
    "                <td>0</td>\n",
    "                <td>0</td>\n",
    "                <td>0</td>\n",
    "            </tr>\n",
    "        </table>\n",
    "    </div>\n",
    "    <div>Not operator</div>\n",
    "    <div>\n",
    "        <table>\n",
    "            <tr>\n",
    "                <th>Not</th>\n",
    "                <th>Value</th>\n",
    "                <th>Result</th>\n",
    "            </tr>\n",
    "            <tr>\n",
    "                <td>Not</td>\n",
    "                <td>1</td>\n",
    "                <td>0</td>\n",
    "            </tr>\n",
    "            <tr>\n",
    "                <td>Not</td>\n",
    "                <td>0</td>\n",
    "                <td>1</td>\n",
    "            </tr>\n",
    "        </table>\n",
    "    </div>\n",
    "</html>"
   ]
  },
  {
   "cell_type": "markdown",
   "metadata": {},
   "source": [
    "## Python Practice"
   ]
  },
  {
   "cell_type": "code",
   "execution_count": 2,
   "metadata": {},
   "outputs": [
    {
     "name": "stdout",
     "output_type": "stream",
     "text": [
      "True\n",
      "False\n",
      "False\n",
      "True\n",
      "True\n"
     ]
    }
   ],
   "source": [
    "# Testing out relational operators\n",
    "# Practice with these statements\n",
    "\n",
    "print(20 == 20) # How can you change the operator to print a value of False?\n",
    "\n",
    "# Here's a simple way to change the value to false:\n",
    "\n",
    "print(20 > 20)\n",
    "\n",
    "x = 30\n",
    "y = 20\n",
    "z = 10\n",
    "print(x > y + z) # How can this return true by only manipulating the operator?\n",
    "\n",
    "# The following change makes the statement true:\n",
    "print(x > y - z)\n",
    "\n",
    "# Manipulate the variables x, y, and z to make the below statement return true\n",
    "x = x - z\n",
    "z = y\n",
    "\n",
    "print(x == z)"
   ]
  },
  {
   "cell_type": "markdown",
   "metadata": {},
   "source": [
    "# 3.6 Hacks\n",
    "\n",
    "## AP Prep\n",
    "\n",
    "**1. What is displayed by this code?**\n",
    "- result <-- 75\n",
    "- IF result < 80 {\n",
    "    DISPLAY(\"Please schedule a retake.\")\n",
    "}\n",
    "- ELSE {\n",
    "    DISPLAY(\"Nice job!\")\n",
    "}\n",
    "\n",
    "1. Nice job!\n",
    "2. Display\n",
    "3. Please schedule a retake.\n",
    "4. 75\n",
    "\n",
    "Answer: 3. Please Schedule a Retake\n",
    "\n",
    "Result was set to 75. Since that value is less than 80, the if condition is satisfied. Therefore, its associated command, which prints \"Please schedule a retake\" to output, is executed.\n",
    "\n",
    "**2. How is an if statement different from an if-else statement.**\n",
    "\n",
    "1. Extra words.\n",
    "2. An if statement will only go through a process if a condition is met. An if-else statement will go through code no matter the conditions.\n",
    "3. They are the exact same.\n",
    "4. An if statement will go through the entire code segment every single time and the if-else statement is always used in an algorithm, no matter the conditions.\n",
    "\n",
    "If statements and if-else statements are distinct, and their differences are not merely in what words are used.\n",
    "\n",
    "Both if statements and if-else statements will execute commands if a condition is fulfilled.\n",
    "\n",
    "In case of the condition not being met, the if statement does nothing, while the if-else statement executes commands associated with the **else**.\n",
    "\n",
    "Therefore, the answer is 2.\n",
    "\n",
    "**3. What would be most appropriate for this situation? Ben wants to check his bank account. If his car fuel is full, he will go to the bank. Otherwise, he will go home. If he goes to the bank, he will withdraw money only if his balance is above $1000.**\n",
    "\n",
    "Note that if the first condition (having a full car) is not fulfilled, a procedure is still executed (namely Ben goes home). Therefore, an if-else statement is procedurally appropriate.\n",
    "\n",
    "Answer: 2. If-else statement\n",
    "\n",
    "**4. What would be most appropriate for this situation? Luke wants to play basketball. If it is sunny outside he will go to the park to play basketball.**\n",
    "\n",
    "Note that if the condition (it being sunny outside) is not fulfilled, the procedural response is not specified. This is similar to an if statement, which does nothing if the condition is not met.\n",
    "\n",
    "Answer: 1. If statement\n",
    "\n",
    "\n",
    "## Using Python"
   ]
  },
  {
   "cell_type": "code",
   "execution_count": 8,
   "metadata": {},
   "outputs": [
    {
     "name": "stdout",
     "output_type": "stream",
     "text": [
      "lion\n",
      "tiger\n",
      "wildebeest\n",
      "Fun Fact: The smallest shark is the dwarf lantern shark, and it is small enough to hold in your hand!\n",
      "jellyfish\n",
      "blobfish\n",
      "raven\n",
      "This is information about the habitats of these animals:\n",
      "The lion is a desert animal\n",
      "The tiger is not a desert animal\n",
      "The wildebeest is not a desert animal\n",
      "The shark is not a desert animal\n",
      "The jellyfish is not a desert animal\n",
      "The blobfish is not a desert animal\n",
      "The raven is a desert animal\n"
     ]
    }
   ],
   "source": [
    "animals = [\"lion\", \"tiger\", \"wildebeest\", \"shark\", \"jellyfish\", \"blobfish\", \"raven\"]\n",
    "\n",
    "\n",
    "for i in animals:\n",
    "    if i == \"shark\": # What boolean value does this statement cause?\n",
    "        print(\"Fun Fact: The smallest shark is the dwarf lantern shark, and it is small enough to hold in your hand!\")\n",
    "    else:\n",
    "        print(i)\n",
    "\n",
    "print(\"This is information about the habitats of these animals:\")\n",
    "for j in animals:\n",
    "    if (j == \"lion\") or (j == \"raven\"):\n",
    "        print(\"The \" + j + \" is a desert animal\")\n",
    "    else:\n",
    "        print(\"The \" + j + \" is not a desert animal\")\n",
    "\n",
    "\n",
    "# Practice\n",
    "# Using only one more if statement, alter the code to print out a statement saying if an animal lives in the desert, based on booleans"
   ]
  },
  {
   "cell_type": "markdown",
   "metadata": {},
   "source": [
    "# 3.7 Hacks\n",
    "\n",
    "## Exercise 1\n",
    "- Create dictionaries for multiple food items, with the listed specifications\n",
    "    - Chicken Alfredo, Meat: Chicken, Time to Prepare: 60 minutes\n",
    "    - Cheese Quesadilla, Meat: None, Time to Prepare: 10 minutes\n",
    "    - Beef Wellington, Meat: Beef, Time to Prepare: 150 minutes\n",
    "- Used nested conditionals, determine which meal you can cook, given that a) you have no meat at home, and b) you only have 30 minutes to make the meal"
   ]
  },
  {
   "cell_type": "code",
   "execution_count": 1,
   "metadata": {},
   "outputs": [
    {
     "name": "stdout",
     "output_type": "stream",
     "text": [
      "You do not have sufficient resources to make Chicken Alfredo\n",
      "You have sufficient resources to make Cheese Quesadilla\n",
      "You do not have sufficient resources to make Beef Wellington\n"
     ]
    }
   ],
   "source": [
    "# Write code here\n",
    "\n",
    "Menu = [\n",
    "    {\"Name\": \"Chicken Alfredo\",\n",
    "    \"Meat\": \"Chicken\",\n",
    "    \"PrepTime\": 60},\n",
    "    {\"Name\": \"Cheese Quesadilla\",\n",
    "    \"Meat\": \"None\",\n",
    "    \"PrepTime\": 10},\n",
    "    {\"Name\": \"Beef Wellington\",\n",
    "    \"Meat\": \"Beef\",\n",
    "    \"PrepTime\": 150},\n",
    "]\n",
    "\n",
    "for entry in Menu:\n",
    "    if entry[\"Meat\"] == \"None\":\n",
    "        if entry[\"PrepTime\"] < 30:\n",
    "            print(\"You have sufficient resources to make \" + entry[\"Name\"])\n",
    "    else:\n",
    "        print(\"You do not have sufficient resources to make \" + entry[\"Name\"])"
   ]
  },
  {
   "cell_type": "markdown",
   "metadata": {},
   "source": [
    "## Exercise 2\n",
    "\n",
    "Make a flowchart([here](https://www.lucidchart.com/pages/examples/flowchart-maker) is one we used) and write pseudocode for the following scenario.\n",
    "- Mr. Yeung would like to grade live reviews. \n",
    "- He wants to see if each student has at least 2 issues on their project. If they don't they receive a score of 2.0.\n",
    "- If they have at least 2 issues, check that they have completed at least 5 of their scrumboard tasks.\n",
    "- If they have completed 5 scrumboard tasks, give the student a 2.7. If they have not completed 5 scrumboard tasks, give them a score of 2.5. If they have completed more than 5 tasks, give them a score of 3.0.\n",
    "- How much would a student with 3 issues and 1 complete scrumboard task receive?"
   ]
  },
  {
   "cell_type": "markdown",
   "metadata": {},
   "source": [
    "Anyways, my flowchart is on the issue. Apparently my website hates me so I'll have to paste an image\n",
    "\n",
    "![](images/hackhackhack.png)"
   ]
  }
 ],
 "metadata": {
  "kernelspec": {
   "display_name": "Python 3.9.12 ('base')",
   "language": "python",
   "name": "python3"
  },
  "language_info": {
   "codemirror_mode": {
    "name": "ipython",
    "version": 3
   },
   "file_extension": ".py",
   "mimetype": "text/x-python",
   "name": "python",
   "nbconvert_exporter": "python",
   "pygments_lexer": "ipython3",
   "version": "3.9.12"
  },
  "orig_nbformat": 4,
  "vscode": {
   "interpreter": {
    "hash": "a78e224c3336be9a93683737f8d2dfc2c6ca28dd34805c7194f7b6355dae587d"
   }
  }
 },
 "nbformat": 4,
 "nbformat_minor": 2
}
